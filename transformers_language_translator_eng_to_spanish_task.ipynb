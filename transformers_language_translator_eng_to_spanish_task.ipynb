{
  "cells": [
    {
      "cell_type": "markdown",
      "metadata": {
        "id": "view-in-github",
        "colab_type": "text"
      },
      "source": [
        "<a href=\"https://colab.research.google.com/github/windaapriliyanti/Myskill/blob/main/transformers_language_translator_eng_to_spanish_task.ipynb\" target=\"_parent\"><img src=\"https://colab.research.google.com/assets/colab-badge.svg\" alt=\"Open In Colab\"/></a>"
      ]
    },
    {
      "cell_type": "markdown",
      "id": "49b14587",
      "metadata": {
        "papermill": {
          "duration": 0.008953,
          "end_time": "2022-10-26T14:53:30.423616",
          "exception": false,
          "start_time": "2022-10-26T14:53:30.414663",
          "status": "completed"
        },
        "tags": [],
        "id": "49b14587"
      },
      "source": [
        "# Language Translator"
      ]
    },
    {
      "cell_type": "markdown",
      "id": "d050183f",
      "metadata": {
        "papermill": {
          "duration": 0.007563,
          "end_time": "2022-10-26T14:53:30.439347",
          "exception": false,
          "start_time": "2022-10-26T14:53:30.431784",
          "status": "completed"
        },
        "tags": [],
        "id": "d050183f"
      },
      "source": [
        "Translating English to Spanish language using Transformer model.\n",
        "\n",
        "* The dataset source is www.manythings.org/anki\n",
        "\n",
        "* Evaluation using BLEU score."
      ]
    },
    {
      "cell_type": "markdown",
      "id": "9cd3cc84",
      "metadata": {
        "papermill": {
          "duration": 0.007594,
          "end_time": "2022-10-26T14:53:30.454564",
          "exception": false,
          "start_time": "2022-10-26T14:53:30.446970",
          "status": "completed"
        },
        "tags": [],
        "id": "9cd3cc84"
      },
      "source": [
        "### Sequence-to-sequence learning"
      ]
    },
    {
      "cell_type": "code",
      "execution_count": null,
      "id": "69b9f32e",
      "metadata": {
        "execution": {
          "iopub.execute_input": "2022-10-26T14:53:30.473828Z",
          "iopub.status.busy": "2022-10-26T14:53:30.473302Z",
          "iopub.status.idle": "2022-10-26T14:53:37.168660Z",
          "shell.execute_reply": "2022-10-26T14:53:37.167689Z"
        },
        "papermill": {
          "duration": 6.707645,
          "end_time": "2022-10-26T14:53:37.171539",
          "exception": false,
          "start_time": "2022-10-26T14:53:30.463894",
          "status": "completed"
        },
        "tags": [],
        "id": "69b9f32e"
      },
      "outputs": [],
      "source": [
        "import pathlib\n",
        "import random\n",
        "import string\n",
        "import re\n",
        "import numpy as np\n",
        "import matplotlib.pyplot as plt\n",
        "%matplotlib inline\n",
        "\n",
        "import tensorflow as tf\n",
        "from tensorflow import keras\n",
        "from tensorflow.keras import layers\n",
        "from tensorflow.keras.layers import TextVectorization\n",
        "from tensorflow.keras.layers import Bidirectional,GRU,LSTM,Embedding\n",
        "from tensorflow.keras.layers import Dense,MultiHeadAttention,LayerNormalization,Embedding,Dropout,Layer\n",
        "from tensorflow.keras import Sequential,Input\n",
        "from tensorflow.keras.callbacks import ModelCheckpoint\n",
        "\n",
        "from nltk.translate.bleu_score import sentence_bleu"
      ]
    },
    {
      "cell_type": "code",
      "execution_count": null,
      "id": "42e438c3",
      "metadata": {
        "execution": {
          "iopub.execute_input": "2022-10-26T14:53:37.189592Z",
          "iopub.status.busy": "2022-10-26T14:53:37.188355Z",
          "iopub.status.idle": "2022-10-26T14:53:37.406726Z",
          "shell.execute_reply": "2022-10-26T14:53:37.405719Z"
        },
        "papermill": {
          "duration": 0.229715,
          "end_time": "2022-10-26T14:53:37.409207",
          "exception": false,
          "start_time": "2022-10-26T14:53:37.179492",
          "status": "completed"
        },
        "tags": [],
        "id": "42e438c3",
        "outputId": "c9d6df81-6a02-47a9-aec4-55a2da095d5c"
      },
      "outputs": [
        {
          "name": "stdout",
          "output_type": "stream",
          "text": [
            "Downloading data from http://storage.googleapis.com/download.tensorflow.org/data/spa-eng.zip\n",
            "2646016/2638744 [==============================] - 0s 0us/step\n",
            "2654208/2638744 [==============================] - 0s 0us/step\n"
          ]
        }
      ],
      "source": [
        "text_file = keras.utils.get_file(\n",
        "    fname=\"spa-eng.zip\",\n",
        "    origin=\"http://storage.googleapis.com/download.tensorflow.org/data/spa-eng.zip\",\n",
        "    extract=True,\n",
        ")\n",
        "text_file = pathlib.Path(text_file).parent / \"spa-eng\" / \"spa.txt\""
      ]
    },
    {
      "cell_type": "markdown",
      "id": "bae8ba5a",
      "metadata": {
        "papermill": {
          "duration": 0.007707,
          "end_time": "2022-10-26T14:53:37.425017",
          "exception": false,
          "start_time": "2022-10-26T14:53:37.417310",
          "status": "completed"
        },
        "tags": [],
        "id": "bae8ba5a"
      },
      "source": [
        "Each line contains an English sentence and its corresponding Spanish sentence. The English sentence is the source sequence and Spanish one is the target sequence. We prepend the token \"[start]\" and we append the token \"[end]\" to the Spanish sentence."
      ]
    },
    {
      "cell_type": "code",
      "execution_count": null,
      "id": "bae64791",
      "metadata": {
        "execution": {
          "iopub.execute_input": "2022-10-26T14:53:37.442272Z",
          "iopub.status.busy": "2022-10-26T14:53:37.441903Z",
          "iopub.status.idle": "2022-10-26T14:53:37.616020Z",
          "shell.execute_reply": "2022-10-26T14:53:37.615019Z"
        },
        "papermill": {
          "duration": 0.185274,
          "end_time": "2022-10-26T14:53:37.618330",
          "exception": false,
          "start_time": "2022-10-26T14:53:37.433056",
          "status": "completed"
        },
        "tags": [],
        "id": "bae64791"
      },
      "outputs": [],
      "source": [
        "with open(text_file) as f:\n",
        "    lines = f.read().split(\"\\n\")[:-1]\n",
        "text_pairs = []\n",
        "for line in lines:\n",
        "    english, spanish = line.split(\"\\t\")\n",
        "    spanish = \"[start] \" + spanish + \" [end]\"\n",
        "    text_pairs.append((english, spanish))"
      ]
    },
    {
      "cell_type": "markdown",
      "id": "4adb1403",
      "metadata": {
        "papermill": {
          "duration": 0.007758,
          "end_time": "2022-10-26T14:53:37.634471",
          "exception": false,
          "start_time": "2022-10-26T14:53:37.626713",
          "status": "completed"
        },
        "tags": [],
        "id": "4adb1403"
      },
      "source": [
        "### Printing random English - Spanish text pair"
      ]
    },
    {
      "cell_type": "code",
      "execution_count": null,
      "id": "2ad747e0",
      "metadata": {
        "execution": {
          "iopub.execute_input": "2022-10-26T14:53:37.652322Z",
          "iopub.status.busy": "2022-10-26T14:53:37.651417Z",
          "iopub.status.idle": "2022-10-26T14:53:37.657374Z",
          "shell.execute_reply": "2022-10-26T14:53:37.656206Z"
        },
        "papermill": {
          "duration": 0.017003,
          "end_time": "2022-10-26T14:53:37.659229",
          "exception": false,
          "start_time": "2022-10-26T14:53:37.642226",
          "status": "completed"
        },
        "tags": [],
        "id": "2ad747e0",
        "outputId": "f1a90b01-7bc7-4cb6-8492-41db2650ff6a"
      },
      "outputs": [
        {
          "name": "stdout",
          "output_type": "stream",
          "text": [
            "(\"She asked me what had become of him, but I didn't know.\", '[start] Ella me preguntó qué había sido de él, pero yo no lo sabía. [end]')\n"
          ]
        }
      ],
      "source": [
        "import random\n",
        "print(random.choice(text_pairs))"
      ]
    },
    {
      "cell_type": "code",
      "execution_count": null,
      "id": "f55074a6",
      "metadata": {
        "execution": {
          "iopub.execute_input": "2022-10-26T14:53:37.676483Z",
          "iopub.status.busy": "2022-10-26T14:53:37.675754Z",
          "iopub.status.idle": "2022-10-26T14:53:37.782039Z",
          "shell.execute_reply": "2022-10-26T14:53:37.781047Z"
        },
        "papermill": {
          "duration": 0.11737,
          "end_time": "2022-10-26T14:53:37.784471",
          "exception": false,
          "start_time": "2022-10-26T14:53:37.667101",
          "status": "completed"
        },
        "tags": [],
        "id": "f55074a6"
      },
      "outputs": [],
      "source": [
        "import random\n",
        "random.shuffle(text_pairs)\n",
        "num_val_samples = int(0.15 * len(text_pairs))\n",
        "num_train_samples = len(text_pairs) - 2 * num_val_samples\n",
        "train_pairs = text_pairs[:num_train_samples]\n",
        "val_pairs = text_pairs[num_train_samples:num_train_samples + num_val_samples]\n",
        "test_pairs = text_pairs[num_train_samples + num_val_samples:]"
      ]
    },
    {
      "cell_type": "markdown",
      "id": "dc52cd2d",
      "metadata": {
        "papermill": {
          "duration": 0.007696,
          "end_time": "2022-10-26T14:53:37.800257",
          "exception": false,
          "start_time": "2022-10-26T14:53:37.792561",
          "status": "completed"
        },
        "tags": [],
        "id": "dc52cd2d"
      },
      "source": [
        "## **Vectorizing the English and Spanish text pairs**"
      ]
    },
    {
      "cell_type": "markdown",
      "id": "79c5aa19",
      "metadata": {
        "papermill": {
          "duration": 0.007987,
          "end_time": "2022-10-26T14:53:37.816417",
          "exception": false,
          "start_time": "2022-10-26T14:53:37.808430",
          "status": "completed"
        },
        "tags": [],
        "id": "79c5aa19"
      },
      "source": [
        "**Text Cleaning**"
      ]
    },
    {
      "cell_type": "code",
      "execution_count": null,
      "id": "a4f331a5",
      "metadata": {
        "execution": {
          "iopub.execute_input": "2022-10-26T14:53:37.833529Z",
          "iopub.status.busy": "2022-10-26T14:53:37.833180Z",
          "iopub.status.idle": "2022-10-26T14:53:37.837894Z",
          "shell.execute_reply": "2022-10-26T14:53:37.836934Z"
        },
        "papermill": {
          "duration": 0.015668,
          "end_time": "2022-10-26T14:53:37.839955",
          "exception": false,
          "start_time": "2022-10-26T14:53:37.824287",
          "status": "completed"
        },
        "tags": [],
        "id": "a4f331a5"
      },
      "outputs": [],
      "source": [
        "strip_chars = string.punctuation + \"¿\"\n",
        "strip_chars = strip_chars.replace(\"[\", \"\")\n",
        "strip_chars = strip_chars.replace(\"]\", \"\")"
      ]
    },
    {
      "cell_type": "markdown",
      "id": "bf5b57de",
      "metadata": {
        "papermill": {
          "duration": 0.007718,
          "end_time": "2022-10-26T14:53:37.855398",
          "exception": false,
          "start_time": "2022-10-26T14:53:37.847680",
          "status": "completed"
        },
        "tags": [],
        "id": "bf5b57de"
      },
      "source": [
        "**Text Standardization**\n",
        "* Convert Text to lowercase"
      ]
    },
    {
      "cell_type": "code",
      "execution_count": null,
      "id": "15371fd1",
      "metadata": {
        "execution": {
          "iopub.execute_input": "2022-10-26T14:53:37.872546Z",
          "iopub.status.busy": "2022-10-26T14:53:37.871842Z",
          "iopub.status.idle": "2022-10-26T14:53:37.877441Z",
          "shell.execute_reply": "2022-10-26T14:53:37.876601Z"
        },
        "papermill": {
          "duration": 0.016225,
          "end_time": "2022-10-26T14:53:37.879391",
          "exception": false,
          "start_time": "2022-10-26T14:53:37.863166",
          "status": "completed"
        },
        "tags": [],
        "id": "15371fd1"
      },
      "outputs": [],
      "source": [
        "def custom_standardization(input_string):\n",
        "    lowercase = tf.strings.lower(input_string)\n",
        "    return tf.strings.regex_replace(\n",
        "        lowercase, f\"[{re.escape(strip_chars)}]\", \"\")"
      ]
    },
    {
      "cell_type": "markdown",
      "id": "955a660e",
      "metadata": {
        "papermill": {
          "duration": 0.00759,
          "end_time": "2022-10-26T14:53:37.894815",
          "exception": false,
          "start_time": "2022-10-26T14:53:37.887225",
          "status": "completed"
        },
        "tags": [],
        "id": "955a660e"
      },
      "source": [
        "### Text Vectorization\n",
        "\n",
        "We'll use two instances of the TextVectorization layer to vectorize the text data (one for English and one for Spanish), that is to say, to turn the original strings into integer sequences where each integer represents the index of a word in a vocabulary.\n",
        "\n",
        "The English layer will use the default string standardization (strip punctuation characters) and splitting scheme (split on whitespace), while the Spanish layer will use a custom standardization, where we add the character \"¿\" to the set of punctuation characters to be stripped.\n",
        "\n",
        "Note: in a production-grade machine translation model, I would not recommend stripping the punctuation characters in either language. Instead, I would recommend turning each punctuation character into its own token, which you could achieve by providing a custom split function to the TextVectorization layer."
      ]
    },
    {
      "cell_type": "code",
      "execution_count": null,
      "id": "086cb8a5",
      "metadata": {
        "execution": {
          "iopub.execute_input": "2022-10-26T14:53:37.912959Z",
          "iopub.status.busy": "2022-10-26T14:53:37.911444Z",
          "iopub.status.idle": "2022-10-26T14:53:51.618371Z",
          "shell.execute_reply": "2022-10-26T14:53:51.617327Z"
        },
        "papermill": {
          "duration": 13.71824,
          "end_time": "2022-10-26T14:53:51.620838",
          "exception": false,
          "start_time": "2022-10-26T14:53:37.902598",
          "status": "completed"
        },
        "tags": [],
        "id": "086cb8a5",
        "outputId": "ec8b2098-889c-4722-fe4d-1bec71297142"
      },
      "outputs": [
        {
          "name": "stderr",
          "output_type": "stream",
          "text": [
            "2022-10-26 14:53:38.016069: I tensorflow/stream_executor/cuda/cuda_gpu_executor.cc:937] successful NUMA node read from SysFS had negative value (-1), but there must be at least one NUMA node, so returning NUMA node zero\n",
            "2022-10-26 14:53:38.113145: I tensorflow/stream_executor/cuda/cuda_gpu_executor.cc:937] successful NUMA node read from SysFS had negative value (-1), but there must be at least one NUMA node, so returning NUMA node zero\n",
            "2022-10-26 14:53:38.114022: I tensorflow/stream_executor/cuda/cuda_gpu_executor.cc:937] successful NUMA node read from SysFS had negative value (-1), but there must be at least one NUMA node, so returning NUMA node zero\n",
            "2022-10-26 14:53:38.115634: I tensorflow/core/platform/cpu_feature_guard.cc:142] This TensorFlow binary is optimized with oneAPI Deep Neural Network Library (oneDNN) to use the following CPU instructions in performance-critical operations:  AVX2 AVX512F FMA\n",
            "To enable them in other operations, rebuild TensorFlow with the appropriate compiler flags.\n",
            "2022-10-26 14:53:38.116021: I tensorflow/stream_executor/cuda/cuda_gpu_executor.cc:937] successful NUMA node read from SysFS had negative value (-1), but there must be at least one NUMA node, so returning NUMA node zero\n",
            "2022-10-26 14:53:38.116747: I tensorflow/stream_executor/cuda/cuda_gpu_executor.cc:937] successful NUMA node read from SysFS had negative value (-1), but there must be at least one NUMA node, so returning NUMA node zero\n",
            "2022-10-26 14:53:38.117398: I tensorflow/stream_executor/cuda/cuda_gpu_executor.cc:937] successful NUMA node read from SysFS had negative value (-1), but there must be at least one NUMA node, so returning NUMA node zero\n",
            "2022-10-26 14:53:40.350801: I tensorflow/stream_executor/cuda/cuda_gpu_executor.cc:937] successful NUMA node read from SysFS had negative value (-1), but there must be at least one NUMA node, so returning NUMA node zero\n",
            "2022-10-26 14:53:40.351695: I tensorflow/stream_executor/cuda/cuda_gpu_executor.cc:937] successful NUMA node read from SysFS had negative value (-1), but there must be at least one NUMA node, so returning NUMA node zero\n",
            "2022-10-26 14:53:40.352413: I tensorflow/stream_executor/cuda/cuda_gpu_executor.cc:937] successful NUMA node read from SysFS had negative value (-1), but there must be at least one NUMA node, so returning NUMA node zero\n",
            "2022-10-26 14:53:40.353034: I tensorflow/core/common_runtime/gpu/gpu_device.cc:1510] Created device /job:localhost/replica:0/task:0/device:GPU:0 with 15401 MB memory:  -> device: 0, name: Tesla P100-PCIE-16GB, pci bus id: 0000:00:04.0, compute capability: 6.0\n",
            "2022-10-26 14:53:41.391639: I tensorflow/compiler/mlir/mlir_graph_optimization_pass.cc:185] None of the MLIR Optimization Passes are enabled (registered 2)\n"
          ]
        }
      ],
      "source": [
        "vocab_size = 15000\n",
        "sequence_length = 20\n",
        "\n",
        "source_vectorization = TextVectorization(\n",
        "    max_tokens=vocab_size,\n",
        "    output_mode=\"int\",\n",
        "    output_sequence_length=sequence_length,\n",
        ")\n",
        "target_vectorization = TextVectorization(\n",
        "    max_tokens=vocab_size,\n",
        "    output_mode=\"int\",\n",
        "    output_sequence_length=sequence_length + 1,\n",
        "    standardize=custom_standardization,\n",
        ")\n",
        "train_english_texts = [pair[0] for pair in train_pairs]\n",
        "train_spanish_texts = [pair[1] for pair in train_pairs]\n",
        "source_vectorization.adapt(train_english_texts)\n",
        "target_vectorization.adapt(train_spanish_texts)"
      ]
    },
    {
      "cell_type": "markdown",
      "id": "d0d419a9",
      "metadata": {
        "papermill": {
          "duration": 0.007911,
          "end_time": "2022-10-26T14:53:51.637456",
          "exception": false,
          "start_time": "2022-10-26T14:53:51.629545",
          "status": "completed"
        },
        "tags": [],
        "id": "d0d419a9"
      },
      "source": [
        "**Preparing datasets for the translation task**"
      ]
    },
    {
      "cell_type": "code",
      "execution_count": null,
      "id": "131b2035",
      "metadata": {
        "execution": {
          "iopub.execute_input": "2022-10-26T14:53:51.655469Z",
          "iopub.status.busy": "2022-10-26T14:53:51.655142Z",
          "iopub.status.idle": "2022-10-26T14:53:52.725465Z",
          "shell.execute_reply": "2022-10-26T14:53:52.724512Z"
        },
        "papermill": {
          "duration": 1.081939,
          "end_time": "2022-10-26T14:53:52.727749",
          "exception": false,
          "start_time": "2022-10-26T14:53:51.645810",
          "status": "completed"
        },
        "tags": [],
        "id": "131b2035"
      },
      "outputs": [],
      "source": [
        "batch_size = 64\n",
        "\n",
        "def format_dataset(eng, spa):\n",
        "    eng = source_vectorization(eng)\n",
        "    spa = target_vectorization(spa)\n",
        "    return ({\n",
        "        \"english\": eng,\n",
        "        \"spanish\": spa[:, :-1],\n",
        "    }, spa[:, 1:])\n",
        "\n",
        "def make_dataset(pairs):\n",
        "    eng_texts, spa_texts = zip(*pairs)\n",
        "    eng_texts = list(eng_texts)\n",
        "    spa_texts = list(spa_texts)\n",
        "    dataset = tf.data.Dataset.from_tensor_slices((eng_texts, spa_texts))\n",
        "    dataset = dataset.batch(batch_size)\n",
        "    dataset = dataset.map(format_dataset, num_parallel_calls=4)\n",
        "    return dataset.shuffle(2048).prefetch(16).cache()\n",
        "\n",
        "train_ds = make_dataset(train_pairs)\n",
        "val_ds = make_dataset(val_pairs)"
      ]
    },
    {
      "cell_type": "code",
      "execution_count": null,
      "id": "6c10cf51",
      "metadata": {
        "execution": {
          "iopub.execute_input": "2022-10-26T14:53:52.745915Z",
          "iopub.status.busy": "2022-10-26T14:53:52.745615Z",
          "iopub.status.idle": "2022-10-26T14:53:52.753715Z",
          "shell.execute_reply": "2022-10-26T14:53:52.752827Z"
        },
        "papermill": {
          "duration": 0.019437,
          "end_time": "2022-10-26T14:53:52.755709",
          "exception": false,
          "start_time": "2022-10-26T14:53:52.736272",
          "status": "completed"
        },
        "tags": [],
        "id": "6c10cf51",
        "outputId": "d51e3305-0b0b-462a-fcc7-5baec50ce9bb"
      },
      "outputs": [
        {
          "data": {
            "text/plain": [
              "<CacheDataset shapes: ({english: (None, 20), spanish: (None, 20)}, (None, 20)), types: ({english: tf.int64, spanish: tf.int64}, tf.int64)>"
            ]
          },
          "execution_count": 10,
          "metadata": {},
          "output_type": "execute_result"
        }
      ],
      "source": [
        "train_ds"
      ]
    },
    {
      "cell_type": "code",
      "execution_count": null,
      "id": "190c9f7c",
      "metadata": {
        "execution": {
          "iopub.execute_input": "2022-10-26T14:53:52.773770Z",
          "iopub.status.busy": "2022-10-26T14:53:52.773454Z",
          "iopub.status.idle": "2022-10-26T14:53:53.383914Z",
          "shell.execute_reply": "2022-10-26T14:53:53.380070Z"
        },
        "papermill": {
          "duration": 0.621856,
          "end_time": "2022-10-26T14:53:53.386060",
          "exception": false,
          "start_time": "2022-10-26T14:53:52.764204",
          "status": "completed"
        },
        "tags": [],
        "id": "190c9f7c",
        "outputId": "26d0abfa-4dff-44b8-cfd6-bc408eea317a"
      },
      "outputs": [
        {
          "name": "stdout",
          "output_type": "stream",
          "text": [
            "english [[  18  116    8 ...    0    0    0]\n",
            " [   5  792    0 ...    0    0    0]\n",
            " [  79  645    0 ...    0    0    0]\n",
            " ...\n",
            " [   6 1106  334 ...    0    0    0]\n",
            " [ 533    3  574 ...    0    0    0]\n",
            " [   9  602   17 ...    0    0    0]],\n",
            "\n",
            "\n",
            " inputs['english'].shape: (64, 20)\n",
            "spanish [[    2    41   106 ...     0     0     0]\n",
            " [    2   126  1932 ...     0     0     0]\n",
            " [    2    88 12108 ...     0     0     0]\n",
            " ...\n",
            " [    2     8  1625 ...     0     0     0]\n",
            " [    2     6   190 ...     0     0     0]\n",
            " [    2    19    14 ...     0     0     0]],\n",
            "\n",
            "\n",
            " inputs['spanish'].shape: (64, 20)\n",
            "targets [[   41   106    21 ...     0     0     0]\n",
            " [  126  1932     3 ...     0     0     0]\n",
            " [   88 12108     3 ...     0     0     0]\n",
            " ...\n",
            " [    8  1625    18 ...     0     0     0]\n",
            " [    6   190    14 ...     0     0     0]\n",
            " [   19    14  1523 ...     0     0     0]], \n",
            "\n",
            "\n",
            " targets.shape: (64, 20)\n"
          ]
        },
        {
          "name": "stderr",
          "output_type": "stream",
          "text": [
            "2022-10-26 14:53:53.374069: W tensorflow/core/kernels/data/cache_dataset_ops.cc:768] The calling iterator did not fully read the dataset being cached. In order to avoid unexpected truncation of the dataset, the partially cached contents of the dataset  will be discarded. This can happen if you have an input pipeline similar to `dataset.cache().take(k).repeat()`. You should use `dataset.take(k).cache().repeat()` instead.\n"
          ]
        }
      ],
      "source": [
        "for inputs, targets in train_ds.take(1):\n",
        "    print(f\"english {inputs['english']},\\n\\n\\n inputs['english'].shape: {inputs['english'].shape}\")\n",
        "    print(f\"spanish {inputs['spanish']},\\n\\n\\n inputs['spanish'].shape: {inputs['spanish'].shape}\")\n",
        "    print(f\"targets {targets}, \\n\\n\\n targets.shape: {targets.shape}\")"
      ]
    },
    {
      "cell_type": "markdown",
      "id": "215bfaef",
      "metadata": {
        "papermill": {
          "duration": 0.008109,
          "end_time": "2022-10-26T14:53:53.402720",
          "exception": false,
          "start_time": "2022-10-26T14:53:53.394611",
          "status": "completed"
        },
        "tags": [],
        "id": "215bfaef"
      },
      "source": [
        "### Sequence-to-sequence learning with Transformer"
      ]
    },
    {
      "cell_type": "markdown",
      "id": "b1fa48cc",
      "metadata": {
        "papermill": {
          "duration": 0.007929,
          "end_time": "2022-10-26T14:53:53.419048",
          "exception": false,
          "start_time": "2022-10-26T14:53:53.411119",
          "status": "completed"
        },
        "tags": [],
        "id": "b1fa48cc"
      },
      "source": [
        "### A Transformer for machine translation"
      ]
    },
    {
      "cell_type": "markdown",
      "id": "12dcdd4f",
      "metadata": {
        "papermill": {
          "duration": 0.008013,
          "end_time": "2022-10-26T14:53:53.435511",
          "exception": false,
          "start_time": "2022-10-26T14:53:53.427498",
          "status": "completed"
        },
        "tags": [],
        "id": "12dcdd4f"
      },
      "source": [
        "## Transformer Encoder"
      ]
    },
    {
      "cell_type": "code",
      "execution_count": null,
      "id": "b8d8f13d",
      "metadata": {
        "execution": {
          "iopub.execute_input": "2022-10-26T14:53:53.454612Z",
          "iopub.status.busy": "2022-10-26T14:53:53.453413Z",
          "iopub.status.idle": "2022-10-26T14:53:53.463350Z",
          "shell.execute_reply": "2022-10-26T14:53:53.462310Z"
        },
        "papermill": {
          "duration": 0.021589,
          "end_time": "2022-10-26T14:53:53.465514",
          "exception": false,
          "start_time": "2022-10-26T14:53:53.443925",
          "status": "completed"
        },
        "tags": [],
        "id": "b8d8f13d"
      },
      "outputs": [],
      "source": [
        "class TransformerEncoder(Layer):\n",
        "    def __init__(self, embed_dim, dense_dim, num_heads, **kwargs):\n",
        "        super(TransformerEncoder, self).__init__(**kwargs)\n",
        "        self.embed_dim = embed_dim\n",
        "        self.dense_dim = dense_dim\n",
        "        self.num_heads = num_heads\n",
        "        self.attention = MultiHeadAttention(\n",
        "            num_heads=num_heads, key_dim=embed_dim\n",
        "        )\n",
        "        self.dense_proj = Sequential(\n",
        "            [Dense(dense_dim, activation=\"relu\"), Dense(embed_dim),]\n",
        "        )\n",
        "        self.layernorm_1 = LayerNormalization()\n",
        "        self.layernorm_2 = LayerNormalization()\n",
        "        self.supports_masking = True\n",
        "\n",
        "    def call(self, inputs, mask=None):\n",
        "        if mask is not None:\n",
        "            padding_mask = tf.cast(mask[:, tf.newaxis, tf.newaxis, :], dtype=\"int32\")\n",
        "        attention_output = self.attention(\n",
        "            query=inputs, value=inputs, key=inputs, attention_mask=padding_mask\n",
        "        )\n",
        "\n",
        "        proj_input = self.layernorm_1(inputs + attention_output)\n",
        "        proj_output = self.dense_proj(proj_input)\n",
        "        return self.layernorm_2(proj_input + proj_output)\n",
        "    def get_config(self):\n",
        "        config = super().get_config()\n",
        "        config.update({\n",
        "            \"embed_dim\": self.embed_dim,\n",
        "            \"dense_dim\": self.dense_dim,\n",
        "            \"num_heads\": self.num_heads,\n",
        "        })\n",
        "        return config"
      ]
    },
    {
      "cell_type": "markdown",
      "id": "1aafc438",
      "metadata": {
        "papermill": {
          "duration": 0.008047,
          "end_time": "2022-10-26T14:53:53.481976",
          "exception": false,
          "start_time": "2022-10-26T14:53:53.473929",
          "status": "completed"
        },
        "tags": [],
        "id": "1aafc438"
      },
      "source": [
        "#### The Transformer decoder"
      ]
    },
    {
      "cell_type": "code",
      "execution_count": null,
      "id": "746a609d",
      "metadata": {
        "execution": {
          "iopub.execute_input": "2022-10-26T14:53:53.500352Z",
          "iopub.status.busy": "2022-10-26T14:53:53.499989Z",
          "iopub.status.idle": "2022-10-26T14:53:53.513660Z",
          "shell.execute_reply": "2022-10-26T14:53:53.512753Z"
        },
        "papermill": {
          "duration": 0.025251,
          "end_time": "2022-10-26T14:53:53.515651",
          "exception": false,
          "start_time": "2022-10-26T14:53:53.490400",
          "status": "completed"
        },
        "tags": [],
        "id": "746a609d"
      },
      "outputs": [],
      "source": [
        "class TransformerDecoder(Layer):\n",
        "    def __init__(self, embed_dim, dense_dim, num_heads, **kwargs):\n",
        "        super().__init__(**kwargs)\n",
        "        self.embed_dim = embed_dim\n",
        "        self.dense_dim = dense_dim\n",
        "        self.num_heads = num_heads\n",
        "        self.attention_1 = MultiHeadAttention(\n",
        "            num_heads=num_heads, key_dim=embed_dim)\n",
        "        self.attention_2 = MultiHeadAttention(\n",
        "            num_heads=num_heads, key_dim=embed_dim)\n",
        "        self.dense_proj = keras.Sequential(\n",
        "            [Dense(dense_dim, activation=\"relu\"),\n",
        "             Dense(embed_dim),]\n",
        "        )\n",
        "        self.layernorm_1 = LayerNormalization()\n",
        "        self.layernorm_2 = LayerNormalization()\n",
        "        self.layernorm_3 = LayerNormalization()\n",
        "        self.supports_masking = True\n",
        "\n",
        "    def get_config(self):\n",
        "        config = super().get_config()\n",
        "        config.update({\n",
        "            \"embed_dim\": self.embed_dim,\n",
        "            \"num_heads\": self.num_heads,\n",
        "            \"dense_dim\": self.dense_dim,\n",
        "        })\n",
        "        return config\n",
        "\n",
        "    def get_causal_attention_mask(self, inputs):\n",
        "        input_shape = tf.shape(inputs)\n",
        "        batch_size, sequence_length = input_shape[0], input_shape[1]\n",
        "        i = tf.range(sequence_length)[:, tf.newaxis]\n",
        "        j = tf.range(sequence_length)\n",
        "        mask = tf.cast(i >= j, dtype=\"int32\")\n",
        "        mask = tf.reshape(mask, (1, input_shape[1], input_shape[1]))\n",
        "        mult = tf.concat(\n",
        "            [tf.expand_dims(batch_size, -1),\n",
        "             tf.constant([1, 1], dtype=tf.int32)], axis=0)\n",
        "        return tf.tile(mask, mult)\n",
        "\n",
        "    def call(self, inputs, encoder_outputs, mask=None):\n",
        "        causal_mask = self.get_causal_attention_mask(inputs)\n",
        "        if mask is not None:\n",
        "            padding_mask = tf.cast(\n",
        "                mask[:, tf.newaxis, :], dtype=\"int32\")\n",
        "            padding_mask = tf.minimum(padding_mask, causal_mask)\n",
        "        attention_output_1 = self.attention_1(\n",
        "            query=inputs,\n",
        "            value=inputs,\n",
        "            key=inputs,\n",
        "            attention_mask=causal_mask)\n",
        "        attention_output_1 = self.layernorm_1(inputs + attention_output_1)\n",
        "        attention_output_2 = self.attention_2(\n",
        "            query=attention_output_1,\n",
        "            value=encoder_outputs,\n",
        "            key=encoder_outputs,\n",
        "            attention_mask=padding_mask,\n",
        "        )\n",
        "        attention_output_2 = self.layernorm_2(\n",
        "            attention_output_1 + attention_output_2)\n",
        "        proj_output = self.dense_proj(attention_output_2)\n",
        "        return self.layernorm_3(attention_output_2 + proj_output)"
      ]
    },
    {
      "cell_type": "markdown",
      "id": "ae1c91e3",
      "metadata": {
        "papermill": {
          "duration": 0.008593,
          "end_time": "2022-10-26T14:53:53.532981",
          "exception": false,
          "start_time": "2022-10-26T14:53:53.524388",
          "status": "completed"
        },
        "tags": [],
        "id": "ae1c91e3"
      },
      "source": [
        "### **Positional Embedding layer**"
      ]
    },
    {
      "cell_type": "code",
      "execution_count": null,
      "id": "b430e432",
      "metadata": {
        "execution": {
          "iopub.execute_input": "2022-10-26T14:53:53.551989Z",
          "iopub.status.busy": "2022-10-26T14:53:53.551093Z",
          "iopub.status.idle": "2022-10-26T14:53:53.563679Z",
          "shell.execute_reply": "2022-10-26T14:53:53.562668Z"
        },
        "papermill": {
          "duration": 0.024399,
          "end_time": "2022-10-26T14:53:53.565772",
          "exception": false,
          "start_time": "2022-10-26T14:53:53.541373",
          "status": "completed"
        },
        "tags": [],
        "id": "b430e432"
      },
      "outputs": [],
      "source": [
        "class PositionalEmbedding(Layer):\n",
        "    def __init__(self, sequence_length, input_dim, output_dim, **kwargs):\n",
        "        super().__init__(**kwargs)\n",
        "        self.token_embeddings = Embedding(\n",
        "            input_dim=input_dim, output_dim=output_dim)\n",
        "        print(input_dim,output_dim)\n",
        "        #intermediate = self.getPositionEncoding(seq_len=input_dim,d=vocab_size,n=output_dim)\n",
        "        self.position_embeddings = Embedding(input_dim=input_dim, output_dim=output_dim)\n",
        "        self.sequence_length = sequence_length\n",
        "        self.input_dim = input_dim\n",
        "        self.output_dim = output_dim\n",
        "\n",
        "    def getPositionEncoding(self,seq_len, d, n = sequence_length):\n",
        "        P = np.zeros((seq_len, d))\n",
        "        for k in range(seq_len):\n",
        "            for i in np.arange(int(d/2)):\n",
        "                denominator = np.power(n, 2*i/d)\n",
        "                P[k, 2*i] = np.sin(k/denominator)\n",
        "                P[k, 2*i+1] = np.cos(k/denominator)\n",
        "        tensor = tf.convert_to_tensor(P)\n",
        "        print(tensor.shape)\n",
        "        return tensor\n",
        "\n",
        "    def call(self, inputs):\n",
        "        length = tf.shape(inputs)[-1]\n",
        "        positions = tf.range(start=0, limit=length, delta=1)\n",
        "        embedded_tokens = self.token_embeddings(inputs)\n",
        "        embedded_positions = self.position_embeddings(positions)\n",
        "        return embedded_tokens + embedded_positions\n",
        "\n",
        "    def compute_mask(self, inputs, mask=None):\n",
        "        return tf.math.not_equal(inputs, 0)\n",
        "\n",
        "    def get_config(self):\n",
        "        config = super(PositionalEmbedding, self).get_config()\n",
        "        config.update({\n",
        "            \"output_dim\": self.output_dim,\n",
        "            \"sequence_length\": self.sequence_length,\n",
        "            \"input_dim\": self.input_dim,\n",
        "        })\n",
        "        return config"
      ]
    },
    {
      "cell_type": "markdown",
      "id": "1c8a5641",
      "metadata": {
        "papermill": {
          "duration": 0.00804,
          "end_time": "2022-10-26T14:53:53.582107",
          "exception": false,
          "start_time": "2022-10-26T14:53:53.574067",
          "status": "completed"
        },
        "tags": [],
        "id": "1c8a5641"
      },
      "source": [
        "**End-to-end Transformer**"
      ]
    },
    {
      "cell_type": "code",
      "execution_count": null,
      "id": "1f955a66",
      "metadata": {
        "execution": {
          "iopub.execute_input": "2022-10-26T14:53:53.600380Z",
          "iopub.status.busy": "2022-10-26T14:53:53.599761Z",
          "iopub.status.idle": "2022-10-26T14:53:54.495954Z",
          "shell.execute_reply": "2022-10-26T14:53:54.494858Z"
        },
        "papermill": {
          "duration": 0.907962,
          "end_time": "2022-10-26T14:53:54.498583",
          "exception": false,
          "start_time": "2022-10-26T14:53:53.590621",
          "status": "completed"
        },
        "tags": [],
        "id": "1f955a66",
        "outputId": "6f716ad8-2eb2-45b0-fcb6-9be9926dc240"
      },
      "outputs": [
        {
          "name": "stdout",
          "output_type": "stream",
          "text": [
            "15000 256\n",
            "15000 256\n"
          ]
        }
      ],
      "source": [
        "embed_dim = 256\n",
        "dense_dim = 2048\n",
        "num_heads = 8\n",
        "\n",
        "encoder_inputs = keras.Input(shape=(None,), dtype=\"int64\", name=\"english\")\n",
        "x = PositionalEmbedding(sequence_length, vocab_size, embed_dim)(encoder_inputs)\n",
        "encoder_outputs = TransformerEncoder(embed_dim, dense_dim, num_heads)(x)\n",
        "\n",
        "decoder_inputs = keras.Input(shape=(None,), dtype=\"int64\", name=\"spanish\")\n",
        "x = PositionalEmbedding(sequence_length, vocab_size, embed_dim)(decoder_inputs)\n",
        "x = TransformerDecoder(embed_dim, dense_dim, num_heads)(x, encoder_outputs)\n",
        "x = Dropout(0.5)(x)\n",
        "decoder_outputs = Dense(vocab_size, activation=\"softmax\")(x)\n",
        "transformer = keras.Model([encoder_inputs, decoder_inputs], decoder_outputs)"
      ]
    },
    {
      "cell_type": "code",
      "execution_count": null,
      "id": "0cd355f8",
      "metadata": {
        "_kg_hide-input": true,
        "execution": {
          "iopub.execute_input": "2022-10-26T14:53:54.517832Z",
          "iopub.status.busy": "2022-10-26T14:53:54.517206Z",
          "iopub.status.idle": "2022-10-26T14:53:55.521831Z",
          "shell.execute_reply": "2022-10-26T14:53:55.520654Z"
        },
        "papermill": {
          "duration": 1.016662,
          "end_time": "2022-10-26T14:53:55.524274",
          "exception": false,
          "start_time": "2022-10-26T14:53:54.507612",
          "status": "completed"
        },
        "tags": [],
        "id": "0cd355f8",
        "outputId": "9edca007-703d-4006-daaa-f742794e7628"
      },
      "outputs": [
        {
          "data": {
            "image/png": "[encoded data removed]",
            "text/plain": [
              "<IPython.core.display.Image object>"
            ]
          },
          "execution_count": 16,
          "metadata": {},
          "output_type": "execute_result"
        }
      ],
      "source": [
        "from tensorflow.keras.utils import plot_model\n",
        "plot_model(transformer, to_file='transformer.png', show_shapes=True)\n",
        "from IPython.display import Image\n",
        "Image(\"transformer.png\")"
      ]
    },
    {
      "cell_type": "markdown",
      "id": "6a537118",
      "metadata": {
        "papermill": {
          "duration": 0.009082,
          "end_time": "2022-10-26T14:53:55.542835",
          "exception": false,
          "start_time": "2022-10-26T14:53:55.533753",
          "status": "completed"
        },
        "tags": [],
        "id": "6a537118"
      },
      "source": [
        "**Training the sequence-to-sequence Transformer**"
      ]
    },
    {
      "cell_type": "code",
      "execution_count": null,
      "id": "b3e31c1c",
      "metadata": {
        "execution": {
          "iopub.execute_input": "2022-10-26T14:53:55.564235Z",
          "iopub.status.busy": "2022-10-26T14:53:55.563189Z",
          "iopub.status.idle": "2022-10-26T14:53:55.568571Z",
          "shell.execute_reply": "2022-10-26T14:53:55.567615Z"
        },
        "papermill": {
          "duration": 0.018179,
          "end_time": "2022-10-26T14:53:55.570582",
          "exception": false,
          "start_time": "2022-10-26T14:53:55.552403",
          "status": "completed"
        },
        "tags": [],
        "id": "b3e31c1c"
      },
      "outputs": [],
      "source": [
        "EPOCHS = 30"
      ]
    },
    {
      "cell_type": "code",
      "execution_count": null,
      "id": "f39d60f6",
      "metadata": {
        "execution": {
          "iopub.execute_input": "2022-10-26T14:53:55.590764Z",
          "iopub.status.busy": "2022-10-26T14:53:55.590429Z",
          "iopub.status.idle": "2022-10-26T14:53:55.595637Z",
          "shell.execute_reply": "2022-10-26T14:53:55.594673Z"
        },
        "papermill": {
          "duration": 0.017814,
          "end_time": "2022-10-26T14:53:55.597687",
          "exception": false,
          "start_time": "2022-10-26T14:53:55.579873",
          "status": "completed"
        },
        "tags": [],
        "id": "f39d60f6"
      },
      "outputs": [],
      "source": [
        "checkpoint = ModelCheckpoint(filepath='language_translation_checkpoint.hdf5',\n",
        "                             save_weights_only=True,verbose=1,monitor='val_accuracy')"
      ]
    },
    {
      "cell_type": "code",
      "execution_count": null,
      "id": "f38e9d4e",
      "metadata": {
        "execution": {
          "iopub.execute_input": "2022-10-26T14:53:55.617324Z",
          "iopub.status.busy": "2022-10-26T14:53:55.617030Z",
          "iopub.status.idle": "2022-10-26T15:54:46.912036Z",
          "shell.execute_reply": "2022-10-26T15:54:46.911028Z"
        },
        "papermill": {
          "duration": 3653.453875,
          "end_time": "2022-10-26T15:54:49.060888",
          "exception": false,
          "start_time": "2022-10-26T14:53:55.607013",
          "status": "completed"
        },
        "tags": [],
        "id": "f38e9d4e",
        "outputId": "21ab11e1-0d04-4c4e-addb-70a24f3ad84e"
      },
      "outputs": [
        {
          "name": "stdout",
          "output_type": "stream",
          "text": [
            "Epoch 1/30\n",
            "   1/1302 [..............................] - ETA: 2:03:01 - loss: 3.9363 - accuracy: 0.0000e+00"
          ]
        },
        {
          "name": "stderr",
          "output_type": "stream",
          "text": [
            "2022-10-26 14:54:01.148016: I tensorflow/stream_executor/cuda/cuda_dnn.cc:369] Loaded cuDNN version 8005\n"
          ]
        },
        {
          "name": "stdout",
          "output_type": "stream",
          "text": [
            "1302/1302 [==============================] - 96s 70ms/step - loss: 1.6540 - accuracy: 0.4254 - val_loss: 1.3290 - val_accuracy: 0.5168\n",
            "\n",
            "Epoch 00001: saving model to language_translation_checkpoint.hdf5\n",
            "Epoch 2/30\n",
            "1302/1302 [==============================] - 90s 69ms/step - loss: 1.3220 - accuracy: 0.5386 - val_loss: 1.1603 - val_accuracy: 0.5733\n",
            "\n",
            "Epoch 00002: saving model to language_translation_checkpoint.hdf5\n",
            "Epoch 3/30\n",
            "1302/1302 [==============================] - 90s 69ms/step - loss: 1.1693 - accuracy: 0.5875 - val_loss: 1.0788 - val_accuracy: 0.6030\n",
            "\n",
            "Epoch 00003: saving model to language_translation_checkpoint.hdf5\n",
            "Epoch 4/30\n",
            "1302/1302 [==============================] - 90s 69ms/step - loss: 1.0830 - accuracy: 0.6193 - val_loss: 1.0347 - val_accuracy: 0.6271\n",
            "\n",
            "Epoch 00004: saving model to language_translation_checkpoint.hdf5\n",
            "Epoch 5/30\n",
            "1302/1302 [==============================] - 100s 77ms/step - loss: 1.0374 - accuracy: 0.6403 - val_loss: 1.0186 - val_accuracy: 0.6343\n",
            "\n",
            "Epoch 00005: saving model to language_translation_checkpoint.hdf5\n",
            "Epoch 6/30\n",
            "1302/1302 [==============================] - 90s 69ms/step - loss: 1.0085 - accuracy: 0.6552 - val_loss: 1.0065 - val_accuracy: 0.6424\n",
            "\n",
            "Epoch 00006: saving model to language_translation_checkpoint.hdf5\n",
            "Epoch 7/30\n",
            "1302/1302 [==============================] - 90s 69ms/step - loss: 0.9870 - accuracy: 0.6675 - val_loss: 0.9955 - val_accuracy: 0.6480\n",
            "\n",
            "Epoch 00007: saving model to language_translation_checkpoint.hdf5\n",
            "Epoch 8/30\n",
            "1302/1302 [==============================] - 90s 69ms/step - loss: 0.9701 - accuracy: 0.6771 - val_loss: 0.9923 - val_accuracy: 0.6527\n",
            "\n",
            "Epoch 00008: saving model to language_translation_checkpoint.hdf5\n",
            "Epoch 9/30\n",
            "1302/1302 [==============================] - 90s 69ms/step - loss: 0.9559 - accuracy: 0.6852 - val_loss: 0.9923 - val_accuracy: 0.6536\n",
            "\n",
            "Epoch 00009: saving model to language_translation_checkpoint.hdf5\n",
            "Epoch 10/30\n",
            "1302/1302 [==============================] - 90s 69ms/step - loss: 0.9407 - accuracy: 0.6932 - val_loss: 0.9903 - val_accuracy: 0.6573\n",
            "\n",
            "Epoch 00010: saving model to language_translation_checkpoint.hdf5\n",
            "Epoch 11/30\n",
            "1302/1302 [==============================] - 90s 69ms/step - loss: 0.9293 - accuracy: 0.6990 - val_loss: 0.9908 - val_accuracy: 0.6594\n",
            "\n",
            "Epoch 00011: saving model to language_translation_checkpoint.hdf5\n",
            "Epoch 12/30\n",
            "1302/1302 [==============================] - 90s 69ms/step - loss: 0.9172 - accuracy: 0.7046 - val_loss: 0.9983 - val_accuracy: 0.6562\n",
            "\n",
            "Epoch 00012: saving model to language_translation_checkpoint.hdf5\n",
            "Epoch 13/30\n",
            "1302/1302 [==============================] - 90s 69ms/step - loss: 0.9058 - accuracy: 0.7100 - val_loss: 1.0026 - val_accuracy: 0.6595\n",
            "\n",
            "Epoch 00013: saving model to language_translation_checkpoint.hdf5\n",
            "Epoch 14/30\n",
            "1302/1302 [==============================] - 90s 69ms/step - loss: 0.8947 - accuracy: 0.7143 - val_loss: 0.9995 - val_accuracy: 0.6624\n",
            "\n",
            "Epoch 00014: saving model to language_translation_checkpoint.hdf5\n",
            "Epoch 15/30\n",
            "1302/1302 [==============================] - 90s 69ms/step - loss: 0.8859 - accuracy: 0.7186 - val_loss: 1.0009 - val_accuracy: 0.6621\n",
            "\n",
            "Epoch 00015: saving model to language_translation_checkpoint.hdf5\n",
            "Epoch 16/30\n",
            "1302/1302 [==============================] - 90s 69ms/step - loss: 0.8761 - accuracy: 0.7223 - val_loss: 1.0069 - val_accuracy: 0.6623\n",
            "\n",
            "Epoch 00016: saving model to language_translation_checkpoint.hdf5\n",
            "Epoch 17/30\n",
            "1302/1302 [==============================] - 90s 69ms/step - loss: 0.8667 - accuracy: 0.7265 - val_loss: 1.0006 - val_accuracy: 0.6622\n",
            "\n",
            "Epoch 00017: saving model to language_translation_checkpoint.hdf5\n",
            "Epoch 18/30\n",
            "1302/1302 [==============================] - 90s 69ms/step - loss: 0.8588 - accuracy: 0.7292 - val_loss: 1.0107 - val_accuracy: 0.6618\n",
            "\n",
            "Epoch 00018: saving model to language_translation_checkpoint.hdf5\n",
            "Epoch 19/30\n",
            "1302/1302 [==============================] - 90s 69ms/step - loss: 0.8498 - accuracy: 0.7329 - val_loss: 1.0102 - val_accuracy: 0.6640\n",
            "\n",
            "Epoch 00019: saving model to language_translation_checkpoint.hdf5\n",
            "Epoch 20/30\n",
            "1302/1302 [==============================] - 90s 69ms/step - loss: 0.8418 - accuracy: 0.7362 - val_loss: 1.0169 - val_accuracy: 0.6623\n",
            "\n",
            "Epoch 00020: saving model to language_translation_checkpoint.hdf5\n",
            "Epoch 21/30\n",
            "1302/1302 [==============================] - 90s 69ms/step - loss: 0.8339 - accuracy: 0.7389 - val_loss: 1.0168 - val_accuracy: 0.6635\n",
            "\n",
            "Epoch 00021: saving model to language_translation_checkpoint.hdf5\n",
            "Epoch 22/30\n",
            "1302/1302 [==============================] - 90s 69ms/step - loss: 0.8258 - accuracy: 0.7420 - val_loss: 1.0164 - val_accuracy: 0.6664\n",
            "\n",
            "Epoch 00022: saving model to language_translation_checkpoint.hdf5\n",
            "Epoch 23/30\n",
            "1302/1302 [==============================] - 90s 69ms/step - loss: 0.8191 - accuracy: 0.7441 - val_loss: 1.0261 - val_accuracy: 0.6618\n",
            "\n",
            "Epoch 00023: saving model to language_translation_checkpoint.hdf5\n",
            "Epoch 24/30\n",
            "1302/1302 [==============================] - 90s 69ms/step - loss: 0.8117 - accuracy: 0.7473 - val_loss: 1.0353 - val_accuracy: 0.6627\n",
            "\n",
            "Epoch 00024: saving model to language_translation_checkpoint.hdf5\n",
            "Epoch 25/30\n",
            "1302/1302 [==============================] - 90s 69ms/step - loss: 0.8051 - accuracy: 0.7492 - val_loss: 1.0316 - val_accuracy: 0.6642\n",
            "\n",
            "Epoch 00025: saving model to language_translation_checkpoint.hdf5\n",
            "Epoch 26/30\n",
            "1302/1302 [==============================] - 90s 69ms/step - loss: 0.7987 - accuracy: 0.7520 - val_loss: 1.0366 - val_accuracy: 0.6641\n",
            "\n",
            "Epoch 00026: saving model to language_translation_checkpoint.hdf5\n",
            "Epoch 27/30\n",
            "1302/1302 [==============================] - 90s 69ms/step - loss: 0.7911 - accuracy: 0.7547 - val_loss: 1.0428 - val_accuracy: 0.6617\n",
            "\n",
            "Epoch 00027: saving model to language_translation_checkpoint.hdf5\n",
            "Epoch 28/30\n",
            "1302/1302 [==============================] - 90s 69ms/step - loss: 0.7850 - accuracy: 0.7571 - val_loss: 1.0434 - val_accuracy: 0.6637\n",
            "\n",
            "Epoch 00028: saving model to language_translation_checkpoint.hdf5\n",
            "Epoch 29/30\n",
            "1302/1302 [==============================] - 90s 69ms/step - loss: 0.7785 - accuracy: 0.7593 - val_loss: 1.0470 - val_accuracy: 0.6650\n",
            "\n",
            "Epoch 00029: saving model to language_translation_checkpoint.hdf5\n",
            "Epoch 30/30\n",
            "1302/1302 [==============================] - 90s 69ms/step - loss: 0.7731 - accuracy: 0.7611 - val_loss: 1.0501 - val_accuracy: 0.6652\n",
            "\n",
            "Epoch 00030: saving model to language_translation_checkpoint.hdf5\n"
          ]
        },
        {
          "data": {
            "text/plain": [
              "<keras.callbacks.History at 0x7fbd64129bd0>"
            ]
          },
          "execution_count": 19,
          "metadata": {},
          "output_type": "execute_result"
        }
      ],
      "source": [
        "transformer.compile(\n",
        "    optimizer=\"rmsprop\",\n",
        "    loss=\"sparse_categorical_crossentropy\",\n",
        "    metrics=[\"accuracy\"])\n",
        "transformer.fit(train_ds, epochs=EPOCHS,callbacks=[checkpoint], validation_data=val_ds)"
      ]
    },
    {
      "cell_type": "code",
      "execution_count": null,
      "id": "f7039b48",
      "metadata": {
        "execution": {
          "iopub.execute_input": "2022-10-26T15:54:53.590060Z",
          "iopub.status.busy": "2022-10-26T15:54:53.589684Z",
          "iopub.status.idle": "2022-10-26T15:54:53.597767Z",
          "shell.execute_reply": "2022-10-26T15:54:53.596890Z"
        },
        "papermill": {
          "duration": 2.124515,
          "end_time": "2022-10-26T15:54:53.599761",
          "exception": false,
          "start_time": "2022-10-26T15:54:51.475246",
          "status": "completed"
        },
        "tags": [],
        "id": "f7039b48"
      },
      "outputs": [],
      "source": [
        "# saving model achitecture in json file\n",
        "model_json = transformer.to_json()\n",
        "with open(\"translator.json\", \"w\") as json_file:\n",
        "    json_file.write(model_json)"
      ]
    },
    {
      "cell_type": "raw",
      "id": "185a07a8",
      "metadata": {
        "papermill": {
          "duration": 2.205259,
          "end_time": "2022-10-26T15:54:57.925208",
          "exception": false,
          "start_time": "2022-10-26T15:54:55.719949",
          "status": "completed"
        },
        "tags": [],
        "id": "185a07a8"
      },
      "source": [
        "transformer.save_weights(\"translator.h5\")\n",
        "load_status = transformer.load_weights(\"translator.h5\")"
      ]
    },
    {
      "cell_type": "markdown",
      "id": "bd741b67",
      "metadata": {
        "papermill": {
          "duration": 2.362825,
          "end_time": "2022-10-26T15:55:02.403026",
          "exception": false,
          "start_time": "2022-10-26T15:55:00.040201",
          "status": "completed"
        },
        "tags": [],
        "id": "bd741b67"
      },
      "source": [
        "**Translating new sentences with our Transformer model**"
      ]
    },
    {
      "cell_type": "code",
      "execution_count": null,
      "id": "be1e5e47",
      "metadata": {
        "execution": {
          "iopub.execute_input": "2022-10-26T15:55:06.756301Z",
          "iopub.status.busy": "2022-10-26T15:55:06.755927Z",
          "iopub.status.idle": "2022-10-26T15:55:06.790033Z",
          "shell.execute_reply": "2022-10-26T15:55:06.789050Z"
        },
        "papermill": {
          "duration": 2.284565,
          "end_time": "2022-10-26T15:55:06.792320",
          "exception": false,
          "start_time": "2022-10-26T15:55:04.507755",
          "status": "completed"
        },
        "tags": [],
        "id": "be1e5e47"
      },
      "outputs": [],
      "source": [
        "spa_vocab = target_vectorization.get_vocabulary()\n",
        "spa_index_lookup = dict(zip(range(len(spa_vocab)), spa_vocab))\n",
        "max_decoded_sentence_length = 20"
      ]
    },
    {
      "cell_type": "markdown",
      "id": "df117acb",
      "metadata": {
        "papermill": {
          "duration": 2.107329,
          "end_time": "2022-10-26T15:55:11.018579",
          "exception": false,
          "start_time": "2022-10-26T15:55:08.911250",
          "status": "completed"
        },
        "tags": [],
        "id": "df117acb"
      },
      "source": [
        "### Output Testing and Decoding the output sequence"
      ]
    },
    {
      "cell_type": "code",
      "execution_count": null,
      "id": "7fcc79d9",
      "metadata": {
        "execution": {
          "iopub.execute_input": "2022-10-26T15:55:15.572620Z",
          "iopub.status.busy": "2022-10-26T15:55:15.572248Z",
          "iopub.status.idle": "2022-10-26T15:55:15.578624Z",
          "shell.execute_reply": "2022-10-26T15:55:15.577580Z"
        },
        "papermill": {
          "duration": 2.23256,
          "end_time": "2022-10-26T15:55:15.580760",
          "exception": false,
          "start_time": "2022-10-26T15:55:13.348200",
          "status": "completed"
        },
        "tags": [],
        "id": "7fcc79d9"
      },
      "outputs": [],
      "source": [
        "def decode_sequence(input_sentence):\n",
        "    tokenized_input_sentence = source_vectorization([input_sentence])\n",
        "    decoded_sentence = \"[start]\"\n",
        "    for i in range(max_decoded_sentence_length):\n",
        "        tokenized_target_sentence = target_vectorization(\n",
        "            [decoded_sentence])[:, :-1]\n",
        "        predictions = transformer(\n",
        "            [tokenized_input_sentence, tokenized_target_sentence])\n",
        "        sampled_token_index = np.argmax(predictions[0, i, :])\n",
        "        sampled_token = spa_index_lookup[sampled_token_index]\n",
        "        decoded_sentence += \" \" + sampled_token\n",
        "        if sampled_token == \"[end]\":\n",
        "            break\n",
        "    return decoded_sentence"
      ]
    },
    {
      "cell_type": "markdown",
      "id": "56ecdf9d",
      "metadata": {
        "papermill": {
          "duration": 2.109515,
          "end_time": "2022-10-26T15:55:19.798417",
          "exception": false,
          "start_time": "2022-10-26T15:55:17.688902",
          "status": "completed"
        },
        "tags": [],
        "id": "56ecdf9d"
      },
      "source": [
        "### Transformer translating output"
      ]
    },
    {
      "cell_type": "code",
      "execution_count": null,
      "id": "f7afc07e",
      "metadata": {
        "execution": {
          "iopub.execute_input": "2022-10-26T15:55:24.309594Z",
          "iopub.status.busy": "2022-10-26T15:55:24.309227Z",
          "iopub.status.idle": "2022-10-26T15:55:25.700963Z",
          "shell.execute_reply": "2022-10-26T15:55:25.699871Z"
        },
        "papermill": {
          "duration": 3.762699,
          "end_time": "2022-10-26T15:55:25.703254",
          "exception": false,
          "start_time": "2022-10-26T15:55:21.940555",
          "status": "completed"
        },
        "tags": [],
        "id": "f7afc07e",
        "outputId": "4c2b38ec-f8cd-455b-ee0f-eb72dbacf010"
      },
      "outputs": [
        {
          "name": "stdout",
          "output_type": "stream",
          "text": [
            "-\n",
            "I thought about writing you a message, but never got around to it.\n",
            "[start] pensé haberte escrito un mensaje pero no se lo [UNK] [end]\n",
            "-\n",
            "Our school begins at eight.\n",
            "[start] nuestra escuela que las dos [end]\n",
            "-\n",
            "Pets can be very expensive.\n",
            "[start] los [UNK] se puede ser muy caro [end]\n",
            "-\n",
            "Tom is glad the school year is finally over.\n",
            "[start] tom se preguntó mucho el colegio tiene al fin de lo que el [UNK] [end]\n",
            "-\n",
            "I've been to Australia once.\n",
            "[start] he estado en australia una vez [end]\n"
          ]
        }
      ],
      "source": [
        "test_eng_texts = [pair[0] for pair in test_pairs]\n",
        "for _ in range(5):\n",
        "    input_sentence = random.choice(test_eng_texts)\n",
        "    print(\"-\")\n",
        "    print(input_sentence)\n",
        "    print(decode_sequence(input_sentence))"
      ]
    },
    {
      "cell_type": "markdown",
      "id": "0108d15d",
      "metadata": {
        "papermill": {
          "duration": 2.116488,
          "end_time": "2022-10-26T15:55:30.006188",
          "exception": false,
          "start_time": "2022-10-26T15:55:27.889700",
          "status": "completed"
        },
        "tags": [],
        "id": "0108d15d"
      },
      "source": [
        "# Evaluation using the BLEU score"
      ]
    },
    {
      "cell_type": "code",
      "execution_count": null,
      "id": "4c08ee2f",
      "metadata": {
        "execution": {
          "iopub.execute_input": "2022-10-26T15:55:34.516418Z",
          "iopub.status.busy": "2022-10-26T15:55:34.515364Z",
          "iopub.status.idle": "2022-10-26T15:55:38.733712Z",
          "shell.execute_reply": "2022-10-26T15:55:38.732594Z"
        },
        "papermill": {
          "duration": 6.609541,
          "end_time": "2022-10-26T15:55:38.736118",
          "exception": false,
          "start_time": "2022-10-26T15:55:32.126577",
          "status": "completed"
        },
        "tags": [],
        "id": "4c08ee2f",
        "outputId": "2c77cca8-9349-419d-e72e-c6980db57117"
      },
      "outputs": [
        {
          "name": "stdout",
          "output_type": "stream",
          "text": [
            "[start] vas a pagar a china a china es pagar china [end] [start] ¿visitará china este otoño? [end]\n",
            "Score:0.25\n",
            "[start] necesito la plata de tom [end] [start] necesito la firma de tom. [end]\n",
            "Score:0.39473684210526316\n"
          ]
        },
        {
          "name": "stderr",
          "output_type": "stream",
          "text": [
            "/opt/conda/lib/python3.7/site-packages/nltk/translate/bleu_score.py:552: UserWarning: \n",
            "The hypothesis contains 0 counts of 2-gram overlaps.\n",
            "Therefore the BLEU score evaluates to 0, independently of\n",
            "how many N-gram overlaps of lower order it contains.\n",
            "Consider using lower n-gram order or use SmoothingFunction()\n",
            "  warnings.warn(_msg)\n",
            "/opt/conda/lib/python3.7/site-packages/nltk/translate/bleu_score.py:552: UserWarning: \n",
            "The hypothesis contains 0 counts of 3-gram overlaps.\n",
            "Therefore the BLEU score evaluates to 0, independently of\n",
            "how many N-gram overlaps of lower order it contains.\n",
            "Consider using lower n-gram order or use SmoothingFunction()\n",
            "  warnings.warn(_msg)\n",
            "/opt/conda/lib/python3.7/site-packages/nltk/translate/bleu_score.py:552: UserWarning: \n",
            "The hypothesis contains 0 counts of 4-gram overlaps.\n",
            "Therefore the BLEU score evaluates to 0, independently of\n",
            "how many N-gram overlaps of lower order it contains.\n",
            "Consider using lower n-gram order or use SmoothingFunction()\n",
            "  warnings.warn(_msg)\n"
          ]
        },
        {
          "name": "stdout",
          "output_type": "stream",
          "text": [
            "[start] Él no es posible entender [end] [start] él no puede comprenderlo. [end]\n",
            "Score:0.3333333333333333\n",
            "[start] las por muchas buen flores [end] [start] las rosas son mis flores favoritas. [end]\n",
            "Score:0.3499999999999999\n",
            "[start] tom le [UNK] de mary la revista [end] [start] tom recortó la fotografía de mary de la revista. [end]\n",
            "Score:0.35555555555555557\n",
            "[start] el juego empezó a las dos y media [end] [start] el juego empieza a las dos y media. [end]\n",
            "Score:0.425531914893617\n",
            "[start] espere un minuto [end] [start] espera un minuto. [end]\n",
            "Score:0.5\n",
            "[start] es una pena que no puedes viajar con nosotros [end] [start] es una lástima que no puedas viajar con nosotros. [end]\n",
            "Score:0.3050847457627119\n",
            "[start] mary es una mujer casado [end] [start] maría es una mujer casada. [end]\n",
            "Score:0.3684210526315789\n",
            "[start] el río que [UNK] ha [UNK] mis cosas se sabe [end] [start] el río que atraviesa parís es el sena. [end]\n",
            "Score:0.2807017543859649\n",
            "[start] me [UNK] un vaso de leche [end] [start] ¿me das un vaso de leche? [end]\n",
            "Score:0.4358974358974359\n",
            "[start] no te [UNK] [end] [start] no fumes. [end]\n",
            "Score:0.44\n",
            "[start] era un le [end] [start] fue un esfuerzo colectivo. [end]\n",
            "Score:0.5217391304347826\n",
            "[start] estoy atrapado [end] [start] estoy emocionado. [end]\n",
            "Score:0.42857142857142855\n",
            "[start] no tengo nada de las [UNK] para ir a la cabeza [end] [start] no tengo ningún otro pasatiempo más que el fútbol. [end]\n",
            "Score:0.26666666666666666\n",
            "[start] ella odia los perros [end] [start] ella sí que odia a los perros. [end]\n",
            "Score:0.4117647058823529\n",
            "[start] su concierto fue [UNK] [end] [start] su concierto fue genial. [end]\n",
            "Score:0.4166666666666667\n",
            "[start] nunca lo había [UNK] [end] [start] nunca antes me había fijado. [end]\n",
            "Score:0.47058823529411764\n",
            "[start] ellas están a lo que tiene casi de misma [end] [start] ellos tienen más o menos la misma edad. [end]\n",
            "Score:0.2777777777777778\n",
            "[start] nos tomó seis años [UNK] [end] [start] nos llevó seis años conquistar constantinopla. [end]\n",
            "Score:0.3684210526315789\n",
            "\n",
            "BLEU score : 7.6/20\n"
          ]
        }
      ],
      "source": [
        "test_eng_texts = [pair[0] for pair in test_pairs]\n",
        "test_spa_texts = [pair[1] for pair in test_pairs]\n",
        "score = 0\n",
        "bleu  = 0\n",
        "for i in range(20):\n",
        "    candidate = decode_sequence(test_eng_texts[i])\n",
        "    reference = test_spa_texts[i].lower()\n",
        "    print(candidate,reference)\n",
        "    score = sentence_bleu(reference, candidate, weights=(1, 0, 0, 0))\n",
        "    bleu+=score\n",
        "    print(f\"Score:{score}\")\n",
        "print(f\"\\nBLEU score : {round(bleu,2)}/20\")\n"
      ]
    },
    {
      "cell_type": "markdown",
      "id": "ac94a58a",
      "metadata": {
        "papermill": {
          "duration": 2.19596,
          "end_time": "2022-10-26T15:55:43.152403",
          "exception": false,
          "start_time": "2022-10-26T15:55:40.956443",
          "status": "completed"
        },
        "tags": [],
        "id": "ac94a58a"
      },
      "source": [
        "## Summary"
      ]
    },
    {
      "cell_type": "markdown",
      "id": "6c483a82",
      "metadata": {
        "papermill": {
          "duration": 2.171267,
          "end_time": "2022-10-26T15:55:47.705732",
          "exception": false,
          "start_time": "2022-10-26T15:55:45.534465",
          "status": "completed"
        },
        "tags": [],
        "id": "6c483a82"
      },
      "source": [
        "* Transformer model is implemented for translating English to Spanish.\n",
        "* BLEU score is the metrics used to evaluate the performance of the tranformer in translating the language."
      ]
    },
    {
      "cell_type": "code",
      "source": [],
      "metadata": {
        "id": "lfiDk5JSWQdU"
      },
      "id": "lfiDk5JSWQdU",
      "execution_count": null,
      "outputs": []
    }
  ],
  "metadata": {
    "kernelspec": {
      "display_name": "Python 3",
      "language": "python",
      "name": "python3"
    },
    "language_info": {
      "codemirror_mode": {
        "name": "ipython",
        "version": 3
      },
      "file_extension": ".py",
      "mimetype": "text/x-python",
      "name": "python",
      "nbconvert_exporter": "python",
      "pygments_lexer": "ipython3",
      "version": "3.7.12"
    },
    "papermill": {
      "default_parameters": {},
      "duration": 3750.732266,
      "end_time": "2022-10-26T15:55:53.207363",
      "environment_variables": {},
      "exception": null,
      "input_path": "__notebook__.ipynb",
      "output_path": "__notebook__.ipynb",
      "parameters": {},
      "start_time": "2022-10-26T14:53:22.475097",
      "version": "2.3.4"
    },
    "colab": {
      "provenance": [],
      "include_colab_link": true
    }
  },
  "nbformat": 4,
  "nbformat_minor": 5
}